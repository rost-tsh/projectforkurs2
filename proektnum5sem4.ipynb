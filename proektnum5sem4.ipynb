{
 "cells": [
  {
   "cell_type": "code",
   "execution_count": 1,
   "metadata": {},
   "outputs": [
    {
     "data": {
      "text/plain": [
       "'1.5.1'"
      ]
     },
     "execution_count": 1,
     "metadata": {},
     "output_type": "execute_result"
    }
   ],
   "source": [
    ">>> import sympy as sym\n",
    ">>> sym.__version__"
   ]
  },
  {
   "cell_type": "code",
   "execution_count": 2,
   "metadata": {},
   "outputs": [
    {
     "data": {
      "text/latex": [
       "$\\displaystyle \\sqrt{2} \\sqrt{\\pi}$"
      ],
      "text/plain": [
       "sqrt(2)*sqrt(pi)"
      ]
     },
     "execution_count": 2,
     "metadata": {},
     "output_type": "execute_result"
    }
   ],
   "source": [
    "n = sym.Symbol('n')\n",
    "sym.limit((sym.factorial(n)* sym.exp(n))/(sym.exp(n*sym.log(n))*sym.sqrt(n)), n, sym.oo)"
   ]
  },
  {
   "cell_type": "code",
   "execution_count": 3,
   "metadata": {},
   "outputs": [
    {
     "data": {
      "text/latex": [
       "$\\displaystyle 0.333333333333333$"
      ],
      "text/plain": [
       "0.333333333333333"
      ]
     },
     "execution_count": 3,
     "metadata": {},
     "output_type": "execute_result"
    }
   ],
   "source": [
    "sym.summation(sym.exp((n)*sym.log(1/4)),(n,1,sym.oo))"
   ]
  },
  {
   "cell_type": "code",
   "execution_count": 4,
   "metadata": {},
   "outputs": [
    {
     "data": {
      "text/latex": [
       "$\\displaystyle \\frac{1}{x \\log{\\left(a \\right)}}$"
      ],
      "text/plain": [
       "1/(x*log(a))"
      ]
     },
     "execution_count": 4,
     "metadata": {},
     "output_type": "execute_result"
    }
   ],
   "source": [
    "a = sym.Symbol('a')\n",
    "x = sym.Symbol('x')\n",
    "sym.diff(sym.log(x, a), x)"
   ]
  },
  {
   "cell_type": "code",
   "execution_count": 5,
   "metadata": {},
   "outputs": [
    {
     "data": {
      "text/latex": [
       "$\\displaystyle \\frac{\\sqrt{\\pi} \\operatorname{erfi}{\\left(1 \\right)}}{2}$"
      ],
      "text/plain": [
       "sqrt(pi)*erfi(1)/2"
      ]
     },
     "execution_count": 5,
     "metadata": {},
     "output_type": "execute_result"
    }
   ],
   "source": [
    "sym.integrate(sym.exp(x*x), (x,0,1))"
   ]
  },
  {
   "cell_type": "code",
   "execution_count": 6,
   "metadata": {},
   "outputs": [
    {
     "data": {
      "text/latex": [
       "$\\displaystyle \\left\\{- \\sqrt{2} i, \\sqrt{2} i, \\operatorname{CRootOf} {\\left(x^{5} + 5 x^{3} + 3 x^{2} - 5 x + 20, 0\\right)}, \\operatorname{CRootOf} {\\left(x^{5} + 5 x^{3} + 3 x^{2} - 5 x + 20, 1\\right)}, \\operatorname{CRootOf} {\\left(x^{5} + 5 x^{3} + 3 x^{2} - 5 x + 20, 2\\right)}, \\operatorname{CRootOf} {\\left(x^{5} + 5 x^{3} + 3 x^{2} - 5 x + 20, 3\\right)}, \\operatorname{CRootOf} {\\left(x^{5} + 5 x^{3} + 3 x^{2} - 5 x + 20, 4\\right)}\\right\\}$"
      ],
      "text/plain": [
       "FiniteSet(sqrt(2)*I, -sqrt(2)*I, CRootOf(x**5 + 5*x**3 + 3*x**2 - 5*x + 20, 0), CRootOf(x**5 + 5*x**3 + 3*x**2 - 5*x + 20, 1), CRootOf(x**5 + 5*x**3 + 3*x**2 - 5*x + 20, 2), CRootOf(x**5 + 5*x**3 + 3*x**2 - 5*x + 20, 3), CRootOf(x**5 + 5*x**3 + 3*x**2 - 5*x + 20, 4))"
      ]
     },
     "execution_count": 6,
     "metadata": {},
     "output_type": "execute_result"
    }
   ],
   "source": [
    "sym.solveset(sym.Eq(sym.exp(7*sym.log(x))+7*sym.exp(5*sym.log(x))+3*sym.exp(4*sym.log(x))+5*sym.exp(3*sym.log(x))+26*x*x-10*x+40, 0), x)"
   ]
  },
  {
   "cell_type": "code",
   "execution_count": 7,
   "metadata": {},
   "outputs": [
    {
     "data": {
      "text/plain": [
       "[-sqrt(2)*I,\n",
       " sqrt(2)*I,\n",
       " CRootOf(x**5 + 5*x**3 + 3*x**2 - 5*x + 20, 0),\n",
       " CRootOf(x**5 + 5*x**3 + 3*x**2 - 5*x + 20, 1),\n",
       " CRootOf(x**5 + 5*x**3 + 3*x**2 - 5*x + 20, 2),\n",
       " CRootOf(x**5 + 5*x**3 + 3*x**2 - 5*x + 20, 3),\n",
       " CRootOf(x**5 + 5*x**3 + 3*x**2 - 5*x + 20, 4)]"
      ]
     },
     "execution_count": 7,
     "metadata": {},
     "output_type": "execute_result"
    }
   ],
   "source": [
    "sym.solve(sym.Eq(sym.exp(7*sym.log(x))+7*sym.exp(5*sym.log(x))+3*sym.exp(4*sym.log(x))+5*sym.exp(3*sym.log(x))+26*x*x-10*x+40, 0), x)"
   ]
  },
  {
   "cell_type": "code",
   "execution_count": 8,
   "metadata": {},
   "outputs": [],
   "source": [
    "from sympy.plotting import plot"
   ]
  },
  {
   "cell_type": "code",
   "execution_count": 9,
   "metadata": {},
   "outputs": [
    {
     "data": {
      "image/png": "[encoded data removed]",
      "text/plain": [
       "<Figure size 432x288 with 1 Axes>"
      ]
     },
     "metadata": {
      "needs_background": "light"
     },
     "output_type": "display_data"
    },
    {
     "data": {
      "text/plain": [
       "<sympy.plotting.plot.Plot at 0x26c55a699c8>"
      ]
     },
     "execution_count": 9,
     "metadata": {},
     "output_type": "execute_result"
    }
   ],
   "source": [
    "plot(sym.exp(7*sym.log(x))+7*sym.exp(5*sym.log(x))+3*sym.exp(4*sym.log(x))+5*sym.exp(3*sym.log(x))+26*x*x-10*x+40,x)"
   ]
  },
  {
   "cell_type": "code",
   "execution_count": null,
   "metadata": {},
   "outputs": [],
   "source": []
  }
 ],
 "metadata": {
  "kernelspec": {
   "display_name": "Python 3",
   "language": "python",
   "name": "python3"
  },
  "language_info": {
   "codemirror_mode": {
    "name": "ipython",
    "version": 3
   },
   "file_extension": ".py",
   "mimetype": "text/x-python",
   "name": "python",
   "nbconvert_exporter": "python",
   "pygments_lexer": "ipython3",
   "version": "3.7.6"
  }
 },
 "nbformat": 4,
 "nbformat_minor": 4
}
